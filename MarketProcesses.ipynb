{
 "cells": [
  {
   "cell_type": "code",
   "execution_count": 1,
   "metadata": {},
   "outputs": [],
   "source": [
    "import numpy as np"
   ]
  },
  {
   "cell_type": "code",
   "execution_count": 29,
   "metadata": {},
   "outputs": [],
   "source": [
    "class Wiener:\n",
    "    def __init__(self, n_dimemsions, time_slices, mean_std_match=False, correlation_matrix=None):\n",
    "        self.n_dim = n_dimemsions\n",
    "        self.time_slices = time_slices\n",
    "        self.wiener = np.random.randn(self.n_dim, self.time_slices.size)\n",
    "        self.mm = mean_std_match\n",
    "        self.corr\n",
    "        self.generate_wiener()\n",
    "        self.corr = correlation_matrix\n",
    "    def create_dt(self):\n",
    "        t = np.sort(self.time_slices, axis=None)\n",
    "        t2 = np.insert(t, 0, 0.0)[:-1]\n",
    "        self.dt = t-t2\n",
    "    def generate_wiener(self):\n",
    "        self.create_dt()\n",
    "        for i in range(self.time_slices.size):\n",
    "            self.wiener[:,i] *= np.sqrt(self.dt[i])\n",
    "            if i > 0:\n",
    "                self.wiener[:,i] += self.wiener[:,i-1]\n",
    "        \n",
    "        if self.corr is not None:\n",
    "            c = np.linalg.cholesky(self.corr)\n",
    "            self.wiener = np.dot(c,self.wiener)\n",
    "        \n",
    "        if self.mm:\n",
    "            print('Hi')\n",
    "            for i in range(self.time_slices.size):\n",
    "                self.wiener[:,i] -= np.mean(self.wiener[:,i])\n",
    "                std = np.std(self.wiener[:,i])\n",
    "                if std > 0:\n",
    "                    self.wiener[:,i] /= std\n",
    "        \n",
    "            \n",
    "\n",
    "class Brownian(Wiener):\n",
    "    def __init__(self, n_dimemsions, time_slices, mu, sigma, mean_std_match=False):\n",
    "        super().__init__(n_dimemsions, time_slices, mean_std_match)\n",
    "        self.mu = mu\n",
    "        self.sigma = sigma\n",
    "        self.generate_brownian()\n",
    "    def generate_brownian(self):\n",
    "        self.value = self.wiener*self.sigma\n",
    "        for i in range(self.time_slices.size):\n",
    "            self.value[:,i] += self.time_slices[i]*self.mu\n",
    "\n",
    "class GeometricBrownian(Brownian):\n",
    "    def __init__(self, n_dimemsions, time_slices, mu, sigma, mean_std_match=False):\n",
    "        super().__init__(n_dimemsions, time_slices, mu, sigma, mean_std_match)\n",
    "        self.generate_GB()\n",
    "    def generate_GB(self):\n",
    "        for i in range(self.time_slices.size):\n",
    "            self.value[:,i] -= 0.5*self.time_slices[i]*self.sigma**2.\n",
    "        np.exp(self.value, out=self.value)\n",
    "        "
   ]
  },
  {
   "cell_type": "code",
   "execution_count": 30,
   "metadata": {},
   "outputs": [
    {
     "name": "stdout",
     "output_type": "stream",
     "text": [
      "Hi\n"
     ]
    },
    {
     "data": {
      "text/plain": [
       "array([0., 1., 1., 1., 1., 1., 1., 1., 1., 1., 1.])"
      ]
     },
     "execution_count": 30,
     "metadata": {},
     "output_type": "execute_result"
    }
   ],
   "source": [
    "x = np.array([0.,1.,4.,9.,16.,25.,36.,49.,64.,81.,100.])\n",
    "m = 0.\n",
    "s = 0.05\n",
    "B =GeometricBrownian(2, x, m, s, mean_std_match=True)\n",
    "#print(np.var(B.value, axis=0))\n",
    "#np.exp(2.*m*x)*(np.expm1(s**2.*x))\n",
    "np.std(B.wiener, axis=0)"
   ]
  },
  {
   "cell_type": "code",
   "execution_count": 38,
   "metadata": {},
   "outputs": [
    {
     "data": {
      "text/plain": [
       "45"
      ]
     },
     "execution_count": 38,
     "metadata": {},
     "output_type": "execute_result"
    }
   ],
   "source": [
    "sum(i for i in range(10))"
   ]
  }
 ],
 "metadata": {
  "kernelspec": {
   "display_name": "Python 3",
   "language": "python",
   "name": "python3"
  },
  "language_info": {
   "codemirror_mode": {
    "name": "ipython",
    "version": 3
   },
   "file_extension": ".py",
   "mimetype": "text/x-python",
   "name": "python",
   "nbconvert_exporter": "python",
   "pygments_lexer": "ipython3",
   "version": "3.7.9"
  }
 },
 "nbformat": 4,
 "nbformat_minor": 4
}
