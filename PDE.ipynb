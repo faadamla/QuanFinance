{
 "cells": [
  {
   "cell_type": "code",
   "execution_count": 1,
   "metadata": {},
   "outputs": [],
   "source": [
    "import numpy as np"
   ]
  },
  {
   "cell_type": "code",
   "execution_count": 22,
   "metadata": {},
   "outputs": [],
   "source": [
    "class Wiener:\n",
    "    def __init__(self, n_dimemsions, time_slices, mean_std_match=False):\n",
    "        self.n_dim = n_dimemsions\n",
    "        self.time_slices = time_slices\n",
    "        self.wiener = np.random.randn(self.n_dim, self.time_slices.size)\n",
    "        self.mm = mean_std_match\n",
    "        self.generate_wiener()\n",
    "    def create_dt(self):\n",
    "        t = np.sort(self.time_slices, axis=None)\n",
    "        t2 = np.insert(t, 0, 0.0)[:-1]\n",
    "        self.dt = t-t2\n",
    "    def generate_wiener(self):\n",
    "        self.create_dt()\n",
    "        for i in range(self.time_slices.size):\n",
    "            self.wiener[:,i] *= np.sqrt(self.dt[i])\n",
    "            if i > 0:\n",
    "                self.wiener[:,i] += self.wiener[:,i-1]\n",
    "        if self.mm:\n",
    "            print('Hi')\n",
    "            for i in range(self.time_slices.size):\n",
    "                self.wiener[:,i] -= np.mean(self.wiener[:,i])\n",
    "                \n",
    "                if np.std(self.wiener[:,i])\n",
    "                self.wiener[:,i] /= np.std(self.wiener[:,i])\n",
    "\n",
    "class Brownian(Wiener):\n",
    "    def __init__(self, n_dimemsions, time_slices, mu, sigma, mean_std_match=False):\n",
    "        super().__init__(n_dimemsions, time_slices, mean_std_match)\n",
    "        self.mu = mu\n",
    "        self.sigma = sigma\n",
    "        self.generate_brownian()\n",
    "    def generate_brownian(self):\n",
    "        self.value = self.wiener*self.sigma\n",
    "        for i in range(self.time_slices.size):\n",
    "            self.value[:,i] += self.time_slices[i]*self.mu\n",
    "\n",
    "class GeometricBrownian(Brownian):\n",
    "    def __init__(self, n_dimemsions, time_slices, mu, sigma, mean_std_match=False):\n",
    "        super().__init__(n_dimemsions, time_slices, mu, sigma, mean_std_match)\n",
    "        self.generate_GB()\n",
    "    def generate_GB(self):\n",
    "        for i in range(self.time_slices.size):\n",
    "            self.value[:,i] -= 0.5*self.time_slices[i]*self.sigma**2.\n",
    "        np.exp(self.value, out=self.value)\n",
    "        "
   ]
  },
  {
   "cell_type": "code",
   "execution_count": 24,
   "metadata": {},
   "outputs": [
    {
     "name": "stdout",
     "output_type": "stream",
     "text": [
      "Hi\n"
     ]
    },
    {
     "name": "stderr",
     "output_type": "stream",
     "text": [
      "C:\\ProgramData\\Anaconda3\\lib\\site-packages\\ipykernel_launcher.py:22: RuntimeWarning: invalid value encountered in true_divide\n"
     ]
    },
    {
     "data": {
      "text/plain": [
       "array([nan,  1.,  1.,  1.,  1.,  1.,  1.,  1.,  1.,  1.,  1.])"
      ]
     },
     "execution_count": 24,
     "metadata": {},
     "output_type": "execute_result"
    }
   ],
   "source": [
    "x = np.array([0.,1.,4.,9.,16.,25.,36.,49.,64.,81.,100.])\n",
    "m = 0.\n",
    "s = 0.05\n",
    "B =GeometricBrownian(2, x, m, s, mean_std_match=True)\n",
    "#print(np.var(B.value, axis=0))\n",
    "#np.exp(2.*m*x)*(np.expm1(s**2.*x))\n",
    "np.std(B.wiener, axis=0)"
   ]
  },
  {
   "cell_type": "code",
   "execution_count": 89,
   "metadata": {},
   "outputs": [
    {
     "name": "stderr",
     "output_type": "stream",
     "text": [
      "C:\\ProgramData\\Anaconda3\\lib\\site-packages\\ipykernel_launcher.py:1: RuntimeWarning: overflow encountered in exp\n",
      "  \"\"\"Entry point for launching an IPython kernel.\n"
     ]
    },
    {
     "data": {
      "text/plain": [
       "array([[2.38031985e+068,             inf,             inf],\n",
       "       [8.45742436e+008, 7.78019931e+017, 3.44362415e+101]])"
      ]
     },
     "execution_count": 89,
     "metadata": {},
     "output_type": "execute_result"
    }
   ],
   "source": [
    "np.exp(a, out=a)\n",
    "a"
   ]
  }
 ],
 "metadata": {
  "kernelspec": {
   "display_name": "Python 3",
   "language": "python",
   "name": "python3"
  },
  "language_info": {
   "codemirror_mode": {
    "name": "ipython",
    "version": 3
   },
   "file_extension": ".py",
   "mimetype": "text/x-python",
   "name": "python",
   "nbconvert_exporter": "python",
   "pygments_lexer": "ipython3",
   "version": "3.7.9"
  }
 },
 "nbformat": 4,
 "nbformat_minor": 4
}
