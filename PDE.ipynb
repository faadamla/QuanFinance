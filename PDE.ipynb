{
 "cells": [
  {
   "cell_type": "code",
   "execution_count": 2,
   "metadata": {},
   "outputs": [],
   "source": [
    "import numpy as np"
   ]
  },
  {
   "cell_type": "code",
   "execution_count": 61,
   "metadata": {},
   "outputs": [],
   "source": [
    "class Brownian:\n",
    "    def __init__(self, n_dimemsions, time_slices, mu, sigma):\n",
    "        self.mu = mu\n",
    "        self.sigma = sigma\n",
    "        self.time_slices = time_slices\n",
    "        self.n_dim = n_dimemsions\n",
    "        self.value = np.random.randn(self.n_dim, self.time_slices.size)\n",
    "        self.generate()\n",
    "    def create_dt(self):\n",
    "        t = np.sort(self.time_slices, axis=None)\n",
    "        t2 = np.insert(t, 0, 0.0)[:-1]\n",
    "        self.dt = t-t2\n",
    "    def generate(self):\n",
    "        self.create_dt()\n",
    "        for i in range(self.time_slices.size):\n",
    "            self.value[:,i] *= np.sqrt(self.dt[i])*self.sigma\n",
    "            self.value[:,i] += self.dt[i]*self.mu\n",
    "            if i > 0:\n",
    "                self.value[:,i] += self.value[:,i-1]"
   ]
  },
  {
   "cell_type": "code",
   "execution_count": 63,
   "metadata": {},
   "outputs": [
    {
     "data": {
      "text/plain": [
       "array([ 0.        ,  5.00243777, 10.0021669 , 15.00103381, 20.02769572,\n",
       "       25.0352914 , 30.01916438, 35.01711084, 40.01622061, 45.01000367,\n",
       "       50.01950696])"
      ]
     },
     "execution_count": 63,
     "metadata": {},
     "output_type": "execute_result"
    }
   ],
   "source": [
    "B =Brownian(1000000,np.array([0.,1.,4.,9.,16.,25.,36.,49.,64.,81.,100.]),3.,5.)\n",
    "np.std(B.value, axis=0)"
   ]
  },
  {
   "cell_type": "code",
   "execution_count": 60,
   "metadata": {},
   "outputs": [
    {
     "data": {
      "text/plain": [
       "array([0.98245571, 1.02596466, 1.05021093, 0.98634759, 0.99691958,\n",
       "       1.00597034, 1.02749704, 0.98795151, 0.99270935, 1.02857981])"
      ]
     },
     "execution_count": 60,
     "metadata": {},
     "output_type": "execute_result"
    }
   ],
   "source": [
    "np.std(np.random.randn(1000,10),axis=0)"
   ]
  }
 ],
 "metadata": {
  "kernelspec": {
   "display_name": "Python 3",
   "language": "python",
   "name": "python3"
  },
  "language_info": {
   "codemirror_mode": {
    "name": "ipython",
    "version": 3
   },
   "file_extension": ".py",
   "mimetype": "text/x-python",
   "name": "python",
   "nbconvert_exporter": "python",
   "pygments_lexer": "ipython3",
   "version": "3.7.9"
  }
 },
 "nbformat": 4,
 "nbformat_minor": 4
}
